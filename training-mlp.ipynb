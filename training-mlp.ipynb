{
  "cells": [
    {
      "cell_type": "code",
      "execution_count": null,
      "metadata": {
        "id": "pR4Mh_E_U_sd"
      },
      "outputs": [],
      "source": [
        "#@title 設定\n",
        "\n",
        "# autoreload\n",
        "%load_ext autoreload\n",
        "%autoreload 2\n",
        "\n",
        "# Git LFS & リポジトリのクローン\n",
        "!apt-get install -qq git-lfs && git lfs install\n",
        "!git clone --depth 1 https://github.com/khkata/human-in-the-loop-transcribe.git /content/human-in-the-loop-transcribe\n",
        "!git clone --depth 1 https://huggingface.co/datasets/khkata/human-in-the-loop-transcribe /content/human-in-the-loop-transcribe/data\n",
        "\n",
        "# 作業ディレクトリへ移動\n",
        "%cd /content/human-in-the-loop-transcribe\n",
        "\n",
        "#  依存関係のインストール\n",
        "%pip install -q -e .\n",
        "\n",
        "# システム環境パッケージ\n",
        "!apt-get update -qq && apt-get install -qq mecab libmecab-dev mecab-ipadic-utf8\n",
        "\n",
        "# config.py\n",
        "!python src/config.py\n",
        "\n",
        "# 環境チェック\n",
        "print(f\"Python: {sys.version.split()[0]}, torch: {torch.__version__}, GPU: {torch.cuda.get_device_name(0) if torch.cuda.is_available() else 'None'}\")"
      ]
    },
    {
      "cell_type": "code",
      "execution_count": null,
      "metadata": {
        "cellView": "form",
        "id": "TI4uRfM_Wrcl"
      },
      "outputs": [],
      "source": [
        "#@title 特徴量抽出\n",
        "\n",
        "!python src.extract_feats \\\n",
        "    --train_raw_csv TRAIN_RAW_CSV \\\n",
        "    --train_processed_csv TRAIN_PROCESSED_CSV \\\n",
        "    --train_raw_audio TRAIN_RAW_AUDIO \\\n",
        "    --train_features TRAIN_FEATURES \\\n",
        "    --test_raw_csv TEST_RAW_CSV \\\n",
        "    --test_features TEST_FEATURES"
      ]
    },
    {
      "cell_type": "code",
      "execution_count": null,
      "metadata": {
        "cellView": "form",
        "id": "LitLbcJuXA6x"
      },
      "outputs": [],
      "source": [
        "#@title 訓練\n",
        "\n",
        "!python src.train\n",
        "\n",
        "from src.train import retrain_full_data\n",
        "retrain_full_data()"
      ]
    },
    {
      "cell_type": "code",
      "execution_count": null,
      "metadata": {
        "cellView": "form",
        "id": "IHiHz0y4X2Bc"
      },
      "outputs": [],
      "source": [
        "#@title 評価\n",
        "\n",
        "!python src/evaluate.py \\\n",
        "  --test_features $TEST_FEATURES \\\n",
        "  --scaler_path   $SCALER_PATH \\\n",
        "  --model_path    $MODEL_PATH \\\n",
        "  --processed_csv $TEST_PROCESSED_CSV"
      ]
    },
    {
      "cell_type": "code",
      "execution_count": null,
      "metadata": {
        "cellView": "form",
        "id": "o3li79xobCdR"
      },
      "outputs": [],
      "source": [
        "#@title ROVER-3\n",
        "\n",
        "!python src/integrate.py \\\n",
        "  --human_csv      $TEST_HUMAN_CSV \\\n",
        "  --processed_csv  $TEST_PROCESSED_CSV \\\n",
        "  --integrated_csv $TEST_INTEGRATED_CSV"
      ]
    },
    {
      "cell_type": "code",
      "execution_count": null,
      "metadata": {
        "cellView": "form",
        "id": "krUjHqd9bPWf"
      },
      "outputs": [],
      "source": [
        "#@title Cost-WER Curve\n",
        "\n",
        "!python src/cost_wer_curve.py \\\n",
        "  --integrated_csv $TEST_INTEGRATED_CSV \\\n",
        "  --human_cost 15.0 \\\n",
        "  --output_dir /content/drive/MyDrive/.../outputs \\\n",
        "  --output_filename cost_wer_curve.png"
      ]
    }
  ],
  "metadata": {
    "colab": {
      "collapsed_sections": [
        "a8DxqRV-gFEU"
      ],
      "provenance": []
    },
    "kernelspec": {
      "display_name": "Python 3",
      "name": "python3"
    },
    "language_info": {
      "name": "python"
    }
  },
  "nbformat": 4,
  "nbformat_minor": 0
}
