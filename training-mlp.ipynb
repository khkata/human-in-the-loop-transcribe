{
  "cells": [
    {
      "cell_type": "code",
      "execution_count": null,
      "metadata": {
        "id": "pR4Mh_E_U_sd"
      },
      "outputs": [],
      "source": [
        "# 設定\n",
        "\n",
        "# autoreload\n",
        "%load_ext autoreload\n",
        "%autoreload 2\n",
        "\n",
        "# Git LFS & リポジトリのクローン\n",
        "!apt-get install -qq git-lfs && git lfs install\n",
        "!git clone --depth 1 https://github.com/khkata/human-in-the-loop-transcribe.git /content/human-in-the-loop-transcribe\n",
        "!git clone --depth 1 https://huggingface.co/datasets/khkata/human-in-the-loop-transcribe /content/human-in-the-loop-transcribe/data\n",
        "\n",
        "# 作業ディレクトリへ移動\n",
        "%cd /content/human-in-the-loop-transcribe\n",
        "%pip install git+https://github.com/openai/whisper.git\n",
        "\n",
        "#  依存関係のインストール\n",
        "%pip install -q -e .\n",
        "\n",
        "# システム環境パッケージ\n",
        "!apt-get update -qq && apt-get install -qq mecab libmecab-dev mecab-ipadic-utf8\n",
        "\n",
        "# config.py\n",
        "!python -m src.config"
      ]
    },
    {
      "cell_type": "code",
      "execution_count": null,
      "metadata": {
        "cellView": "form",
        "id": "TI4uRfM_Wrcl"
      },
      "outputs": [],
      "source": [
        "# 特徴量抽出\n",
        "!python -m src.extract_feats"
      ]
    },
    {
      "cell_type": "code",
      "execution_count": null,
      "metadata": {
        "cellView": "form",
        "id": "LitLbcJuXA6x"
      },
      "outputs": [],
      "source": [
        "# 訓練\n",
        "!python -m src.train"
      ]
    },
    {
      "cell_type": "code",
      "execution_count": null,
      "metadata": {
        "cellView": "form",
        "id": "IHiHz0y4X2Bc"
      },
      "outputs": [],
      "source": [
        "# 評価\n",
        "!python -m src.test"
      ]
    },
    {
      "cell_type": "code",
      "execution_count": null,
      "metadata": {
        "cellView": "form",
        "id": "o3li79xobCdR"
      },
      "outputs": [],
      "source": [
        "# ROVER-3\n",
        "!python -m src.integrate"
      ]
    },
    {
      "cell_type": "code",
      "execution_count": null,
      "metadata": {
        "cellView": "form",
        "id": "krUjHqd9bPWf"
      },
      "outputs": [],
      "source": [
        "# Cost-WER Curve\n",
        "!python -m src.cost_wer_curve \\\n",
        "  --human_cost 15.0 \\"
      ]
    }
  ],
  "metadata": {
    "colab": {
      "collapsed_sections": [
        "a8DxqRV-gFEU"
      ],
      "provenance": []
    },
    "kernelspec": {
      "display_name": "Python 3",
      "name": "python3"
    },
    "language_info": {
      "name": "python"
    }
  },
  "nbformat": 4,
  "nbformat_minor": 0
}
